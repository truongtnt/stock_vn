{
 "cells": [
  {
   "cell_type": "code",
   "execution_count": 1,
   "metadata": {},
   "outputs": [
    {
     "name": "stdout",
     "output_type": "stream",
     "text": [
      "\n",
      "        SELECT * \n",
      "        FROM meta_stock \n",
      "        WHERE trade_date < 20190101 \n",
      "            AND sec_cd =:1 \n"
     ]
    }
   ],
   "source": [
    "from sqlalchemy import create_engine\n",
    "import pandas as pd\n",
    "import numpy as np\n",
    "import matplotlib.pyplot as plt                    \n",
    "plt.style.use('fivethirtyeight')\n",
    "\n",
    "\n",
    "conn_string = 'sqlite:///Stock.db'\n",
    "engine = create_engine(conn_string)\n",
    "\n",
    "\n",
    "sql = \"\"\"\n",
    "        SELECT * \n",
    "        FROM meta_stock \n",
    "        WHERE trade_date < 20190101 \n",
    "            AND sec_cd =:1 \"\"\"\n",
    "print(sql)"
   ]
  },
  {
   "cell_type": "code",
   "execution_count": null,
   "metadata": {},
   "outputs": [],
   "source": []
  }
 ],
 "metadata": {
  "kernelspec": {
   "display_name": "Python 3",
   "language": "python",
   "name": "python3"
  },
  "language_info": {
   "codemirror_mode": {
    "name": "ipython",
    "version": 3
   },
   "file_extension": ".py",
   "mimetype": "text/x-python",
   "name": "python",
   "nbconvert_exporter": "python",
   "pygments_lexer": "ipython3",
   "version": "3.7.5"
  }
 },
 "nbformat": 4,
 "nbformat_minor": 4
}
